{
  "nbformat": 4,
  "nbformat_minor": 0,
  "metadata": {
    "colab": {
      "provenance": []
    },
    "kernelspec": {
      "name": "python3",
      "display_name": "Python 3"
    },
    "language_info": {
      "name": "python"
    }
  },
  "cells": [
    {
      "cell_type": "markdown",
      "source": [
        "## Q1. Which keyword is used to create a function? Create a function to return a list of odd numbers in the range of 1 to 25##"
      ],
      "metadata": {
        "id": "zK-968akm8Hb"
      }
    },
    {
      "cell_type": "markdown",
      "source": [
        "**def** keyword is used to create a function  \n",
        "Creating a function which return the list of odd number in the range 1 to 25"
      ],
      "metadata": {
        "id": "OnNDQPBxntN4"
      }
    },
    {
      "cell_type": "code",
      "source": [
        "def odd():\n",
        "  l=[]\n",
        "  for i in range(1,25):\n",
        "    if i%2!=0:\n",
        "      l.append(i)\n",
        "  return l"
      ],
      "metadata": {
        "id": "7C6V8p1LoAba"
      },
      "execution_count": null,
      "outputs": []
    },
    {
      "cell_type": "code",
      "source": [
        "odd()"
      ],
      "metadata": {
        "colab": {
          "base_uri": "https://localhost:8080/"
        },
        "id": "ENLKNB8OpPO6",
        "outputId": "08ec9171-6e0c-4d51-cb52-4db1784b60cc"
      },
      "execution_count": null,
      "outputs": [
        {
          "output_type": "execute_result",
          "data": {
            "text/plain": [
              "[1, 3, 5, 7, 9, 11, 13, 15, 17, 19, 21, 23]"
            ]
          },
          "metadata": {},
          "execution_count": 10
        }
      ]
    },
    {
      "cell_type": "markdown",
      "source": [
        "## Q2. Why *args and **kwargs is used in some functions? Create a function each for *args and **kwargs to demonstrate their use. ##"
      ],
      "metadata": {
        "id": "b4S0YUHPrYoT"
      }
    },
    {
      "cell_type": "markdown",
      "source": [
        "**args** is used to take non keyword argument of any number, & ****kwargs** is used to take keyword argument of any number"
      ],
      "metadata": {
        "id": "t-GB6xgDYG4Z"
      }
    },
    {
      "cell_type": "markdown",
      "source": [
        "**example for args** : creating a function which gives the even number"
      ],
      "metadata": {
        "id": "j3Qr2Rt3Z9bO"
      }
    },
    {
      "cell_type": "code",
      "source": [
        "def args(*args):\n",
        "  l=[]\n",
        "  for i in args:\n",
        "    if i%2==0:\n",
        "      l.append(i)\n",
        "  return l"
      ],
      "metadata": {
        "id": "4fVF6eZoZx7x"
      },
      "execution_count": null,
      "outputs": []
    },
    {
      "cell_type": "code",
      "source": [
        "args(5,6,9,4,1,7)"
      ],
      "metadata": {
        "colab": {
          "base_uri": "https://localhost:8080/"
        },
        "id": "5WD60_pYbKwx",
        "outputId": "6331ac53-6c4d-4abc-e0da-0ada2be03337"
      },
      "execution_count": null,
      "outputs": [
        {
          "output_type": "execute_result",
          "data": {
            "text/plain": [
              "[6, 4]"
            ]
          },
          "metadata": {},
          "execution_count": 8
        }
      ]
    },
    {
      "cell_type": "markdown",
      "source": [
        "**example of **kwargs**: creating a function which return the the items in a key value pairs,"
      ],
      "metadata": {
        "id": "wSn-6sNul04R"
      }
    },
    {
      "cell_type": "code",
      "source": [
        "def kwarg(**kwargs):\n",
        "  return kwargs"
      ],
      "metadata": {
        "id": "y5wk9np8bRQ4"
      },
      "execution_count": null,
      "outputs": []
    },
    {
      "cell_type": "code",
      "source": [
        "kwarg(name=\"swaraj\",sirname=\"singh\",age=20)"
      ],
      "metadata": {
        "colab": {
          "base_uri": "https://localhost:8080/"
        },
        "id": "qRuqfSJooHGu",
        "outputId": "930a26b8-52fd-4140-ddff-43b5b8fea311"
      },
      "execution_count": null,
      "outputs": [
        {
          "output_type": "execute_result",
          "data": {
            "text/plain": [
              "{'name': 'swaraj', 'sirname': 'singh', 'age': 20}"
            ]
          },
          "metadata": {},
          "execution_count": 10
        }
      ]
    },
    {
      "cell_type": "markdown",
      "source": [
        "## Q3. What is an iterator in python? Name the method used to initialise the iterator object and the method used for iteration. Use these methods to print the first five elements of the given list [2, 4, 6, 8, 10, 12, 14,16, 18, 20]. ##\n",
        "\n",
        "---"
      ],
      "metadata": {
        "id": "bIJrOz1Hpi5t"
      }
    },
    {
      "cell_type": "markdown",
      "source": [
        "**Iterator** in python allow user to print iterables (like **list, tuple**) object single-single element in a sequencial order  \n",
        "**iter()** method is used to initialize the iterator object & **next()** method is used for iteration\n"
      ],
      "metadata": {
        "id": "cQGh6P10uR3O"
      }
    },
    {
      "cell_type": "code",
      "source": [
        "m=[2, 4, 6, 8, 10, 12, 14,16, 18, 20]\n",
        "n=iter(m)\n",
        "print(next(n))\n",
        "print(next(n))\n",
        "print(next(n))\n",
        "print(next(n))\n",
        "print(next(n))\n",
        "print(next(n))\n",
        "print(next(n))\n",
        "print(next(n))\n",
        "print(next(n))\n",
        "print(next(n))"
      ],
      "metadata": {
        "colab": {
          "base_uri": "https://localhost:8080/"
        },
        "id": "9IZz15cCpz4e",
        "outputId": "10d5f18f-7957-4d32-ea15-892a87c8d1bf"
      },
      "execution_count": null,
      "outputs": [
        {
          "output_type": "stream",
          "name": "stdout",
          "text": [
            "2\n",
            "4\n",
            "6\n",
            "8\n",
            "10\n",
            "12\n",
            "14\n",
            "16\n",
            "18\n",
            "20\n"
          ]
        }
      ]
    },
    {
      "cell_type": "markdown",
      "source": [
        "## Q4. What is a generator function in python? Why yield keyword is used? Give an example of a generator function.\n",
        "\n",
        "\n",
        "---"
      ],
      "metadata": {
        "id": "XsxCBIaq09kR"
      }
    },
    {
      "cell_type": "markdown",
      "source": [
        "**generator** function in python is used to create a iterator object of a large sequence of data **&** *yield* keyword is used to fetch a single single items  \n",
        "***Example***"
      ],
      "metadata": {
        "id": "d1llmWzB1yYp"
      }
    },
    {
      "cell_type": "code",
      "source": [
        "def fibb(n):\n",
        "  a,b=0,1\n",
        "  for i in range(n):\n",
        "    yield a\n",
        "    a,b=b,a+b"
      ],
      "metadata": {
        "id": "W53cQlpU0fgB"
      },
      "execution_count": null,
      "outputs": []
    },
    {
      "cell_type": "code",
      "source": [
        "list(fibb(10))"
      ],
      "metadata": {
        "colab": {
          "base_uri": "https://localhost:8080/"
        },
        "id": "TAFlWhjz6yqq",
        "outputId": "00649180-424e-4036-eda0-0e7d42ddffa6"
      },
      "execution_count": null,
      "outputs": [
        {
          "output_type": "execute_result",
          "data": {
            "text/plain": [
              "[0, 1, 1, 2, 3, 5, 8, 13, 21, 34]"
            ]
          },
          "metadata": {},
          "execution_count": 29
        }
      ]
    },
    {
      "cell_type": "markdown",
      "source": [
        "## Q5. Create a generator function for prime numbers less than 1000. Use the next() method to print the first 20 prime numbers.\n",
        "---"
      ],
      "metadata": {
        "id": "3vgDB3tc7LBG"
      }
    },
    {
      "cell_type": "code",
      "source": [
        "def prime(n):\n",
        "    if n <= 2:\n",
        "        return\n",
        "    yield 2\n",
        "    for num in range(3, n):\n",
        "        for i in range(2, int(num**0.5) + 1):\n",
        "            if num % i == 0:\n",
        "                break\n",
        "        else:\n",
        "            yield num"
      ],
      "metadata": {
        "id": "AfT7wYGuszg5"
      },
      "execution_count": 67,
      "outputs": []
    },
    {
      "cell_type": "code",
      "source": [
        "p=prime(1000)\n",
        "print(next(p))\n",
        "print(next(p))\n",
        "print(next(p))\n",
        "print(next(p))\n",
        "print(next(p))\n",
        "print(next(p))\n",
        "print(next(p))\n",
        "print(next(p))\n",
        "print(next(p))\n",
        "print(next(p))\n",
        "print(next(p))\n",
        "print(next(p))\n",
        "print(next(p))\n",
        "print(next(p))\n",
        "print(next(p))\n",
        "print(next(p))\n",
        "print(next(p))\n",
        "print(next(p))\n",
        "print(next(p))\n",
        "print(next(p))"
      ],
      "metadata": {
        "colab": {
          "base_uri": "https://localhost:8080/"
        },
        "id": "2oBNnb0ABMGR",
        "outputId": "b5174d6f-94cc-4b0c-c37d-c1e21e19fc34"
      },
      "execution_count": 71,
      "outputs": [
        {
          "output_type": "stream",
          "name": "stdout",
          "text": [
            "2\n",
            "3\n",
            "5\n",
            "7\n",
            "11\n",
            "13\n",
            "17\n",
            "19\n",
            "23\n",
            "29\n",
            "31\n",
            "37\n",
            "41\n",
            "43\n",
            "47\n",
            "53\n",
            "59\n",
            "61\n",
            "67\n",
            "71\n"
          ]
        }
      ]
    },
    {
      "cell_type": "markdown",
      "source": [
        "## Q6. Write a python program to print the first 10 Fibonacci numbers using a while loop.\n",
        "---"
      ],
      "metadata": {
        "id": "EsV3nY4NY_GZ"
      }
    },
    {
      "cell_type": "code",
      "source": [
        "a,b=0,1\n",
        "for i in range(10):\n",
        "  print(a)\n",
        "  a,b=b,a+b\n",
        "print(a)"
      ],
      "metadata": {
        "colab": {
          "base_uri": "https://localhost:8080/"
        },
        "id": "xxeBqsNmZsov",
        "outputId": "2dc78a31-65ce-45de-b15f-cf97c4827697"
      },
      "execution_count": null,
      "outputs": [
        {
          "output_type": "stream",
          "name": "stdout",
          "text": [
            "0\n",
            "1\n",
            "1\n",
            "2\n",
            "3\n",
            "5\n",
            "8\n",
            "13\n",
            "21\n",
            "34\n",
            "55\n"
          ]
        }
      ]
    },
    {
      "cell_type": "markdown",
      "source": [
        "## Q7. Write a List Comprehension to iterate through the given string: ‘pwskills’. Expected output: ['p', 'w', 's', 'k', 'i', 'l', 'l', 's']\n",
        "\n",
        "---"
      ],
      "metadata": {
        "id": "nEiBtlRWaa5n"
      }
    },
    {
      "cell_type": "code",
      "source": [
        "s=\"pwskills\"\n",
        "l=[i for i in s]\n",
        "print(l)"
      ],
      "metadata": {
        "colab": {
          "base_uri": "https://localhost:8080/"
        },
        "id": "ekJP486oaDUQ",
        "outputId": "0438b1e9-3e7d-4f29-fb2d-45d63bb45e68"
      },
      "execution_count": null,
      "outputs": [
        {
          "output_type": "stream",
          "name": "stdout",
          "text": [
            "['p', 'w', 's', 'k', 'i', 'l', 'l', 's']\n"
          ]
        }
      ]
    },
    {
      "cell_type": "markdown",
      "source": [
        "## Q8. Write a python program to check whether a given number is Palindrome or not using a while loop."
      ],
      "metadata": {
        "id": "yXlqR8GGcayc"
      }
    },
    {
      "cell_type": "code",
      "source": [
        "while True:\n",
        "  a=int(input(\"Enter the number:\"))\n",
        "  b=str(a)\n",
        "  if b==b[::-1]:\n",
        "    print(\"Given number is a palindrome\")\n",
        "  else:\n",
        "    print(\"Given number is not a palindrome\")"
      ],
      "metadata": {
        "id": "q3K6D_w2gsEG"
      },
      "execution_count": null,
      "outputs": []
    },
    {
      "cell_type": "markdown",
      "source": [
        "## Q9. Write a code to print odd numbers from 1 to 100 using list comprehension."
      ],
      "metadata": {
        "id": "D5xYveicc4om"
      }
    },
    {
      "cell_type": "code",
      "source": [
        "l1=[i for i in range(100)]\n",
        "l2=[j for j in l1 if j%2!=0]\n",
        "print(l2)"
      ],
      "metadata": {
        "colab": {
          "base_uri": "https://localhost:8080/"
        },
        "id": "KIptLLs_dC21",
        "outputId": "06566fe4-d383-450e-f72e-0eec2f212b7c"
      },
      "execution_count": null,
      "outputs": [
        {
          "output_type": "stream",
          "name": "stdout",
          "text": [
            "[1, 3, 5, 7, 9, 11, 13, 15, 17, 19, 21, 23, 25, 27, 29, 31, 33, 35, 37, 39, 41, 43, 45, 47, 49, 51, 53, 55, 57, 59, 61, 63, 65, 67, 69, 71, 73, 75, 77, 79, 81, 83, 85, 87, 89, 91, 93, 95, 97, 99]\n"
          ]
        }
      ]
    }
  ]
}